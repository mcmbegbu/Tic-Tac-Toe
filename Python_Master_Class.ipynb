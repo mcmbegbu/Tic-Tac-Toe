{
  "nbformat": 4,
  "nbformat_minor": 0,
  "metadata": {
    "colab": {
      "name": "Python Master Class.ipynb",
      "provenance": [],
      "authorship_tag": "ABX9TyPzlWTOteGYCcC+WFpIAC7u",
      "include_colab_link": true
    },
    "kernelspec": {
      "name": "python3",
      "display_name": "Python 3"
    }
  },
  "cells": [
    {
      "cell_type": "markdown",
      "metadata": {
        "id": "view-in-github",
        "colab_type": "text"
      },
      "source": [
        "<a href=\"https://colab.research.google.com/github/mcmbegbu/Tic-Tac-Toe/blob/master/Python_Master_Class.ipynb\" target=\"_parent\"><img src=\"https://colab.research.google.com/assets/colab-badge.svg\" alt=\"Open In Colab\"/></a>"
      ]
    },
    {
      "cell_type": "code",
      "metadata": {
        "id": "QVBBhZnQo8lN",
        "colab_type": "code",
        "colab": {}
      },
      "source": [
        "#Jupyther notebook: Julia, Python, Rstudio"
      ],
      "execution_count": 0,
      "outputs": []
    },
    {
      "cell_type": "markdown",
      "metadata": {
        "id": "YbBb6uZprd7r",
        "colab_type": "text"
      },
      "source": [
        "*Data Types*\n",
        "\n",
        "Integers: Whole numbers without a decimal e.g 1000\n",
        "\n",
        "Floats: Numbers with decimal e.g 100.05\n",
        "\n",
        "Objects: Numbers, words, character e.g Deji, 1000, W deji1000\n",
        "\n",
        "Strings: Numbers, character but with a \" e.g \"Deji\", \"1000\", \"W'\n",
        "\n"
      ]
    },
    {
      "cell_type": "markdown",
      "metadata": {
        "id": "OSveXLNxrIgY",
        "colab_type": "text"
      },
      "source": [
        ""
      ]
    },
    {
      "cell_type": "markdown",
      "metadata": {
        "id": "Lsq7LFtouO0d",
        "colab_type": "text"
      },
      "source": [
        ""
      ]
    },
    {
      "cell_type": "markdown",
      "metadata": {
        "id": "SP561hGgq_6l",
        "colab_type": "text"
      },
      "source": [
        ""
      ]
    },
    {
      "cell_type": "code",
      "metadata": {
        "id": "05q_rWnNuQT0",
        "colab_type": "code",
        "outputId": "62998ce7-a70e-4458-99aa-0058fcfed16d",
        "colab": {
          "base_uri": "https://localhost:8080/",
          "height": 34
        }
      },
      "source": [
        "100 + 1000"
      ],
      "execution_count": 0,
      "outputs": [
        {
          "output_type": "execute_result",
          "data": {
            "text/plain": [
              "1100"
            ]
          },
          "metadata": {
            "tags": []
          },
          "execution_count": 2
        }
      ]
    },
    {
      "cell_type": "code",
      "metadata": {
        "id": "Kww2bXChujaO",
        "colab_type": "code",
        "outputId": "7cd74f01-c1f1-4895-dbb3-f1dc459c16b0",
        "colab": {
          "base_uri": "https://localhost:8080/",
          "height": 34
        }
      },
      "source": [
        "20.05 + 10.0114"
      ],
      "execution_count": 0,
      "outputs": [
        {
          "output_type": "execute_result",
          "data": {
            "text/plain": [
              "30.0614"
            ]
          },
          "metadata": {
            "tags": []
          },
          "execution_count": 3
        }
      ]
    },
    {
      "cell_type": "markdown",
      "metadata": {
        "id": "6K5byuzOuoe3",
        "colab_type": "text"
      },
      "source": [
        "Operators: +, -, *, /\n",
        "\n",
        "The assign Operator =\n",
        "\n",
        "The Equal to Operator ==\n",
        "\n",
        "Function is an Operator that comes with a parenthesis ()\n"
      ]
    },
    {
      "cell_type": "code",
      "metadata": {
        "id": "bsO3dTcdxRab",
        "colab_type": "code",
        "colab": {}
      },
      "source": [
        "a = 100\n",
        "b = 200\n",
        "c = 300\n",
        "\n",
        "\n",
        "#Use +, -, *, /\n",
        "\n"
      ],
      "execution_count": 0,
      "outputs": []
    },
    {
      "cell_type": "code",
      "metadata": {
        "id": "y_CCQUayyARL",
        "colab_type": "code",
        "outputId": "42423d34-fdb3-4757-be6c-a5cc6034ab5f",
        "colab": {
          "base_uri": "https://localhost:8080/",
          "height": 34
        }
      },
      "source": [
        "  a + b"
      ],
      "execution_count": 0,
      "outputs": [
        {
          "output_type": "execute_result",
          "data": {
            "text/plain": [
              "300"
            ]
          },
          "metadata": {
            "tags": []
          },
          "execution_count": 9
        }
      ]
    },
    {
      "cell_type": "code",
      "metadata": {
        "id": "fiyCn-050wet",
        "colab_type": "code",
        "outputId": "2c89da24-4e11-4821-d5df-9c51e34ed726",
        "colab": {
          "base_uri": "https://localhost:8080/",
          "height": 34
        }
      },
      "source": [
        "#Create a list of letters from d to k inside a brace []\n",
        "\n",
        "my_list = [\"a\", \"b\", \"d\", \"e\", \"f\"] \n",
        "print(my_list)"
      ],
      "execution_count": 0,
      "outputs": [
        {
          "output_type": "stream",
          "text": [
            "['a', 'b', 'd', 'e', 'f']\n"
          ],
          "name": "stdout"
        }
      ]
    },
    {
      "cell_type": "code",
      "metadata": {
        "id": "kyuQG-Gk1IuZ",
        "colab_type": "code",
        "outputId": "d3fca728-0ec2-4c19-c44e-d784848a1526",
        "colab": {
          "base_uri": "https://localhost:8080/",
          "height": 34
        }
      },
      "source": [
        "type(my_list)"
      ],
      "execution_count": 0,
      "outputs": [
        {
          "output_type": "execute_result",
          "data": {
            "text/plain": [
              "list"
            ]
          },
          "metadata": {
            "tags": []
          },
          "execution_count": 11
        }
      ]
    },
    {
      "cell_type": "markdown",
      "metadata": {
        "id": "F5O7nxxnzs1X",
        "colab_type": "text"
      },
      "source": [
        "#Create a list of letters from d to k inside a brace []\n",
        "\n",
        "my_list = [\"a\", \"b\", \"d\", \"e\", \"f\"]\n",
        "print(my_list)\n"
      ]
    },
    {
      "cell_type": "code",
      "metadata": {
        "id": "-h1oci0B1uLJ",
        "colab_type": "code",
        "outputId": "cebec4a9-a1a3-4be2-b91c-f754f54be363",
        "colab": {
          "base_uri": "https://localhost:8080/",
          "height": 34
        }
      },
      "source": [
        "my_list2 = [\"85\", \"Michael\"]\n",
        "type(my_list2)"
      ],
      "execution_count": 0,
      "outputs": [
        {
          "output_type": "execute_result",
          "data": {
            "text/plain": [
              "list"
            ]
          },
          "metadata": {
            "tags": []
          },
          "execution_count": 16
        }
      ]
    },
    {
      "cell_type": "code",
      "metadata": {
        "id": "2PEa8G5i2ZqI",
        "colab_type": "code",
        "colab": {}
      },
      "source": [
        "type"
      ],
      "execution_count": 0,
      "outputs": []
    },
    {
      "cell_type": "markdown",
      "metadata": {
        "id": "emIUargy2mIz",
        "colab_type": "text"
      },
      "source": [
        "Tuples are also a list of items, but are immutable and created with round () brackets\n"
      ]
    },
    {
      "cell_type": "markdown",
      "metadata": {
        "id": "GWsDJ0A3178A",
        "colab_type": "text"
      },
      "source": [
        "List are group of items, they are mutable and created with square brackets. They are heterogenous.\n"
      ]
    },
    {
      "cell_type": "code",
      "metadata": {
        "id": "I8a2fD3v2K8W",
        "colab_type": "code",
        "outputId": "fc2a129f-855a-47c5-fef0-d1691bc64a0e",
        "colab": {
          "base_uri": "https://localhost:8080/",
          "height": 34
        }
      },
      "source": [
        "my_tuple = (\"78\", \"Green\", \"Jasmine\", \"99\", \"Ottawa\")\n",
        "print(my_tuple)"
      ],
      "execution_count": 0,
      "outputs": [
        {
          "output_type": "stream",
          "text": [
            "('78', 'Green', 'Jasmine', '99', 'Ottawa')\n"
          ],
          "name": "stdout"
        }
      ]
    },
    {
      "cell_type": "markdown",
      "metadata": {
        "id": "7MRhFmaY4HHH",
        "colab_type": "text"
      },
      "source": [
        ""
      ]
    },
    {
      "cell_type": "markdown",
      "metadata": {
        "id": "Vn8JzL1W3n2j",
        "colab_type": "text"
      },
      "source": [
        "Coercing: which means changing the data type of a variable from one datatype to another"
      ]
    },
    {
      "cell_type": "code",
      "metadata": {
        "id": "gDwI0aAh4C9M",
        "colab_type": "code",
        "outputId": "38fa8ab4-c43e-47d7-f233-b0004894719b",
        "colab": {
          "base_uri": "https://localhost:8080/",
          "height": 34
        }
      },
      "source": [
        "x = 30.03\n",
        "type(x)"
      ],
      "execution_count": 0,
      "outputs": [
        {
          "output_type": "execute_result",
          "data": {
            "text/plain": [
              "float"
            ]
          },
          "metadata": {
            "tags": []
          },
          "execution_count": 17
        }
      ]
    },
    {
      "cell_type": "markdown",
      "metadata": {
        "id": "200rbxy24P6Z",
        "colab_type": "text"
      },
      "source": [
        "The following functions perform coercing tasks:\n",
        "\n",
        "* int() converts a variable to an integer datatype\n",
        "* float() converts a variable to float datatype\n",
        "* str() converts a variable to string datatype\n",
        "* list() converts a variable to a list datatype\n",
        "* tuple() converts a variable to a tuple datatype"
      ]
    },
    {
      "cell_type": "code",
      "metadata": {
        "id": "OoczGWaR59lw",
        "colab_type": "code",
        "outputId": "089cd391-bfa2-4bff-e804-eb771736b344",
        "colab": {
          "base_uri": "https://localhost:8080/",
          "height": 34
        }
      },
      "source": [
        "x = int(x)\n",
        "print(x)"
      ],
      "execution_count": 0,
      "outputs": [
        {
          "output_type": "stream",
          "text": [
            "30\n"
          ],
          "name": "stdout"
        }
      ]
    },
    {
      "cell_type": "markdown",
      "metadata": {
        "id": "qnyT33YX7AO2",
        "colab_type": "text"
      },
      "source": [
        "Indexing: Indexing means extracting items or a number of items from a list of object\n",
        " "
      ]
    },
    {
      "cell_type": "code",
      "metadata": {
        "id": "-4TD5e6p7n5J",
        "colab_type": "code",
        "outputId": "23e9d790-b2e0-4328-a46e-f0d3ed5be094",
        "colab": {
          "base_uri": "https://localhost:8080/",
          "height": 34
        }
      },
      "source": [
        "my_list"
      ],
      "execution_count": 0,
      "outputs": [
        {
          "output_type": "execute_result",
          "data": {
            "text/plain": [
              "['a', 'b', 'd', 'e', 'f']"
            ]
          },
          "metadata": {
            "tags": []
          },
          "execution_count": 19
        }
      ]
    },
    {
      "cell_type": "code",
      "metadata": {
        "id": "Zhwk9ubw7cng",
        "colab_type": "code",
        "outputId": "27e8b8be-c32e-4076-b19d-f0802474f3b0",
        "colab": {
          "base_uri": "https://localhost:8080/",
          "height": 34
        }
      },
      "source": [
        "my_list[0]"
      ],
      "execution_count": 0,
      "outputs": [
        {
          "output_type": "execute_result",
          "data": {
            "text/plain": [
              "'a'"
            ]
          },
          "metadata": {
            "tags": []
          },
          "execution_count": 20
        }
      ]
    },
    {
      "cell_type": "code",
      "metadata": {
        "id": "Ob3F502f73F6",
        "colab_type": "code",
        "outputId": "dd76ebbc-42de-4793-c557-7672bd70ea44",
        "colab": {
          "base_uri": "https://localhost:8080/",
          "height": 34
        }
      },
      "source": [
        "#Indexing a range of numbers\n",
        "my_list[0:2] #When it comes to subsetting a range of number, the first number is included, while the last number is excluded."
      ],
      "execution_count": 0,
      "outputs": [
        {
          "output_type": "execute_result",
          "data": {
            "text/plain": [
              "['a', 'b']"
            ]
          },
          "metadata": {
            "tags": []
          },
          "execution_count": 21
        }
      ]
    },
    {
      "cell_type": "code",
      "metadata": {
        "id": "XyXxOTRC8jqV",
        "colab_type": "code",
        "outputId": "6cdd22ed-12ad-43ad-fb43-212c40d8bf53",
        "colab": {
          "base_uri": "https://localhost:8080/",
          "height": 34
        }
      },
      "source": [
        "my_list3 = [\"z\", \"c\", \"v\", \"t\", \"b\", \"n\", \"m\", \"l\", \"k\",  \"j\"]\n",
        "print(my_list3)"
      ],
      "execution_count": 0,
      "outputs": [
        {
          "output_type": "stream",
          "text": [
            "['z', 'c', 'v', 't', 'b', 'n', 'm', 'l', 'k', 'j']\n"
          ],
          "name": "stdout"
        }
      ]
    },
    {
      "cell_type": "code",
      "metadata": {
        "id": "mWqPRrnU9yaM",
        "colab_type": "code",
        "outputId": "ef12f854-e395-4c69-de57-e7a6e2acbf6e",
        "colab": {
          "base_uri": "https://localhost:8080/",
          "height": 34
        }
      },
      "source": [
        "my_list3 [0:5]"
      ],
      "execution_count": 0,
      "outputs": [
        {
          "output_type": "execute_result",
          "data": {
            "text/plain": [
              "['z', 'c', 'v', 't', 'b']"
            ]
          },
          "metadata": {
            "tags": []
          },
          "execution_count": 23
        }
      ]
    },
    {
      "cell_type": "code",
      "metadata": {
        "id": "BwtikxRZ95n4",
        "colab_type": "code",
        "outputId": "61a1726c-59b4-4ba9-e2b9-008f0e28eea2",
        "colab": {
          "base_uri": "https://localhost:8080/",
          "height": 34
        }
      },
      "source": [
        "my_list3 [5:10]"
      ],
      "execution_count": 0,
      "outputs": [
        {
          "output_type": "execute_result",
          "data": {
            "text/plain": [
              "['n', 'm', 'l', 'k', 'j']"
            ]
          },
          "metadata": {
            "tags": []
          },
          "execution_count": 24
        }
      ]
    },
    {
      "cell_type": "markdown",
      "metadata": {
        "id": "qvOUl361-9j5",
        "colab_type": "text"
      },
      "source": [
        "Assignment: Check how to create sets and dictionaries\n",
        "\n",
        "Variable assignment operator, takes what is on the right and saves in the left"
      ]
    },
    {
      "cell_type": "code",
      "metadata": {
        "id": "EAAwMKRH_pR7",
        "colab_type": "code",
        "outputId": "89ab0623-39b7-4e30-acda-bf4fb121a7a0",
        "colab": {
          "base_uri": "https://localhost:8080/",
          "height": 34
        }
      },
      "source": [
        "my_list3[9]"
      ],
      "execution_count": 0,
      "outputs": [
        {
          "output_type": "execute_result",
          "data": {
            "text/plain": [
              "'j'"
            ]
          },
          "metadata": {
            "tags": []
          },
          "execution_count": 31
        }
      ]
    },
    {
      "cell_type": "code",
      "metadata": {
        "id": "ZvFtMZf-BIYl",
        "colab_type": "code",
        "outputId": "4e6187eb-6f43-46e9-d429-7a385148ca54",
        "colab": {
          "base_uri": "https://localhost:8080/",
          "height": 34
        }
      },
      "source": [
        "my_list3[9] = 3\n",
        "print(my_list3)"
      ],
      "execution_count": 0,
      "outputs": [
        {
          "output_type": "stream",
          "text": [
            "['z', 'c', 'v', 't', 'b', 'n', 'm', 'l', 'k', 3]\n"
          ],
          "name": "stdout"
        }
      ]
    },
    {
      "cell_type": "code",
      "metadata": {
        "id": "Zf2GpBkVBb6C",
        "colab_type": "code",
        "outputId": "b1731b5a-d94c-4b21-dba1-55737ca7afc8",
        "colab": {
          "base_uri": "https://localhost:8080/",
          "height": 34
        }
      },
      "source": [
        "my_tuple2 = (2, 3, 4, 5, 6)\n",
        "print(my_tuple2)"
      ],
      "execution_count": 0,
      "outputs": [
        {
          "output_type": "stream",
          "text": [
            "(2, 3, 4, 5, 6)\n"
          ],
          "name": "stdout"
        }
      ]
    },
    {
      "cell_type": "code",
      "metadata": {
        "id": "JWMYdDA6BxkY",
        "colab_type": "code",
        "outputId": "83eeae63-84c0-4a90-e725-6fe1bcda7b5e",
        "colab": {
          "base_uri": "https://localhost:8080/",
          "height": 34
        }
      },
      "source": [
        "my_tuple3 = list(my_tuple2)\n",
        "print(my_tuple3)"
      ],
      "execution_count": 0,
      "outputs": [
        {
          "output_type": "stream",
          "text": [
            "[2, 3, 4, 5, 6]\n"
          ],
          "name": "stdout"
        }
      ]
    },
    {
      "cell_type": "markdown",
      "metadata": {
        "id": "VdJWJq1rDPVV",
        "colab_type": "text"
      },
      "source": [
        "Working with a dataset in Python"
      ]
    },
    {
      "cell_type": "code",
      "metadata": {
        "id": "mV5u7Kl3DUmO",
        "colab_type": "code",
        "colab": {}
      },
      "source": [
        "import pandas as pd\n",
        "import matplotlib.pyplot as plt"
      ],
      "execution_count": 0,
      "outputs": []
    },
    {
      "cell_type": "code",
      "metadata": {
        "id": "pHjYaklrEib4",
        "colab_type": "code",
        "colab": {}
      },
      "source": [
        "#Import laptop sales data\n",
        "df = pd.read_csv(\"Laptop Sales.csv\")"
      ],
      "execution_count": 0,
      "outputs": []
    },
    {
      "cell_type": "code",
      "metadata": {
        "id": "d3x4zqLaGk8D",
        "colab_type": "code",
        "outputId": "a943a1e6-3edc-4701-d20e-9e3b98f69556",
        "colab": {
          "base_uri": "https://localhost:8080/",
          "height": 609
        }
      },
      "source": [
        "df"
      ],
      "execution_count": 0,
      "outputs": [
        {
          "output_type": "execute_result",
          "data": {
            "text/html": [
              "<div>\n",
              "<style scoped>\n",
              "    .dataframe tbody tr th:only-of-type {\n",
              "        vertical-align: middle;\n",
              "    }\n",
              "\n",
              "    .dataframe tbody tr th {\n",
              "        vertical-align: top;\n",
              "    }\n",
              "\n",
              "    .dataframe thead th {\n",
              "        text-align: right;\n",
              "    }\n",
              "</style>\n",
              "<table border=\"1\" class=\"dataframe\">\n",
              "  <thead>\n",
              "    <tr style=\"text-align: right;\">\n",
              "      <th></th>\n",
              "      <th>Transaction_date</th>\n",
              "      <th>Product</th>\n",
              "      <th>Price</th>\n",
              "      <th>Payment_Type</th>\n",
              "      <th>Name</th>\n",
              "      <th>City</th>\n",
              "      <th>State</th>\n",
              "      <th>Country</th>\n",
              "      <th>Account_Created</th>\n",
              "      <th>Last_Login</th>\n",
              "      <th>Latitude</th>\n",
              "      <th>Longitude</th>\n",
              "    </tr>\n",
              "  </thead>\n",
              "  <tbody>\n",
              "    <tr>\n",
              "      <th>0</th>\n",
              "      <td>1/2/2009 6:17</td>\n",
              "      <td>Silver Laptop</td>\n",
              "      <td>1200</td>\n",
              "      <td>Mastercard</td>\n",
              "      <td>carolina</td>\n",
              "      <td>Basildon</td>\n",
              "      <td>England</td>\n",
              "      <td>United Kingdom</td>\n",
              "      <td>1/2/2009 6:00</td>\n",
              "      <td>1/2/2009 6:08</td>\n",
              "      <td>51.500000</td>\n",
              "      <td>-1.116667</td>\n",
              "    </tr>\n",
              "    <tr>\n",
              "      <th>1</th>\n",
              "      <td>1/2/2009 4:53</td>\n",
              "      <td>Silver Laptop</td>\n",
              "      <td>1200</td>\n",
              "      <td>Visa</td>\n",
              "      <td>Betina</td>\n",
              "      <td>Parkville</td>\n",
              "      <td>MO</td>\n",
              "      <td>United States</td>\n",
              "      <td>1/2/2009 4:42</td>\n",
              "      <td>1/2/2009 7:49</td>\n",
              "      <td>39.195000</td>\n",
              "      <td>-94.681940</td>\n",
              "    </tr>\n",
              "    <tr>\n",
              "      <th>2</th>\n",
              "      <td>1/2/2009 13:08</td>\n",
              "      <td>Silver Laptop</td>\n",
              "      <td>1200</td>\n",
              "      <td>Mastercard</td>\n",
              "      <td>Federica e Andrea</td>\n",
              "      <td>Astoria</td>\n",
              "      <td>OR</td>\n",
              "      <td>United States</td>\n",
              "      <td>1/1/2009 16:21</td>\n",
              "      <td>1/3/2009 12:32</td>\n",
              "      <td>46.188060</td>\n",
              "      <td>-123.830000</td>\n",
              "    </tr>\n",
              "    <tr>\n",
              "      <th>3</th>\n",
              "      <td>1/3/2009 14:44</td>\n",
              "      <td>Silver Laptop</td>\n",
              "      <td>1200</td>\n",
              "      <td>Visa</td>\n",
              "      <td>Gouya</td>\n",
              "      <td>Echuca</td>\n",
              "      <td>Victoria</td>\n",
              "      <td>Australia</td>\n",
              "      <td>9/25/2005 21:13</td>\n",
              "      <td>1/3/2009 14:22</td>\n",
              "      <td>-36.133333</td>\n",
              "      <td>144.750000</td>\n",
              "    </tr>\n",
              "    <tr>\n",
              "      <th>4</th>\n",
              "      <td>1/4/2009 12:56</td>\n",
              "      <td>Gold Laptop</td>\n",
              "      <td>3600</td>\n",
              "      <td>Visa</td>\n",
              "      <td>Gerd W</td>\n",
              "      <td>Cahaba Heights</td>\n",
              "      <td>AL</td>\n",
              "      <td>United States</td>\n",
              "      <td>11/15/2008 15:47</td>\n",
              "      <td>1/4/2009 12:45</td>\n",
              "      <td>33.520560</td>\n",
              "      <td>-86.802500</td>\n",
              "    </tr>\n",
              "    <tr>\n",
              "      <th>...</th>\n",
              "      <td>...</td>\n",
              "      <td>...</td>\n",
              "      <td>...</td>\n",
              "      <td>...</td>\n",
              "      <td>...</td>\n",
              "      <td>...</td>\n",
              "      <td>...</td>\n",
              "      <td>...</td>\n",
              "      <td>...</td>\n",
              "      <td>...</td>\n",
              "      <td>...</td>\n",
              "      <td>...</td>\n",
              "    </tr>\n",
              "    <tr>\n",
              "      <th>993</th>\n",
              "      <td>1/22/2009 14:25</td>\n",
              "      <td>Silver Laptop</td>\n",
              "      <td>1200</td>\n",
              "      <td>Visa</td>\n",
              "      <td>Hans-Joerg</td>\n",
              "      <td>Belfast</td>\n",
              "      <td>Northern Ireland</td>\n",
              "      <td>United Kingdom</td>\n",
              "      <td>11/10/2008 12:15</td>\n",
              "      <td>3/1/2009 3:37</td>\n",
              "      <td>54.583333</td>\n",
              "      <td>-5.933333</td>\n",
              "    </tr>\n",
              "    <tr>\n",
              "      <th>994</th>\n",
              "      <td>1/28/2009 5:36</td>\n",
              "      <td>Gold Laptop</td>\n",
              "      <td>3600</td>\n",
              "      <td>Visa</td>\n",
              "      <td>Christiane</td>\n",
              "      <td>Black River</td>\n",
              "      <td>Black River</td>\n",
              "      <td>Mauritius</td>\n",
              "      <td>1/9/2009 8:10</td>\n",
              "      <td>3/1/2009 4:40</td>\n",
              "      <td>-20.360278</td>\n",
              "      <td>57.366111</td>\n",
              "    </tr>\n",
              "    <tr>\n",
              "      <th>995</th>\n",
              "      <td>1/1/2009 4:24</td>\n",
              "      <td>Platinum Laptop</td>\n",
              "      <td>7500</td>\n",
              "      <td>Amex</td>\n",
              "      <td>Pamela</td>\n",
              "      <td>Skaneateles</td>\n",
              "      <td>NY</td>\n",
              "      <td>United States</td>\n",
              "      <td>12/28/2008 17:28</td>\n",
              "      <td>3/1/2009 7:21</td>\n",
              "      <td>42.946940</td>\n",
              "      <td>-76.429440</td>\n",
              "    </tr>\n",
              "    <tr>\n",
              "      <th>996</th>\n",
              "      <td>1/8/2009 11:55</td>\n",
              "      <td>Silver Laptop</td>\n",
              "      <td>1200</td>\n",
              "      <td>Diners</td>\n",
              "      <td>julie</td>\n",
              "      <td>Haverhill</td>\n",
              "      <td>England</td>\n",
              "      <td>United Kingdom</td>\n",
              "      <td>11/29/2006 13:31</td>\n",
              "      <td>3/1/2009 7:28</td>\n",
              "      <td>52.083333</td>\n",
              "      <td>0.433333</td>\n",
              "    </tr>\n",
              "    <tr>\n",
              "      <th>997</th>\n",
              "      <td>1/12/2009 21:30</td>\n",
              "      <td>Silver Laptop</td>\n",
              "      <td>1200</td>\n",
              "      <td>Visa</td>\n",
              "      <td>Julia</td>\n",
              "      <td>Madison</td>\n",
              "      <td>WI</td>\n",
              "      <td>United States</td>\n",
              "      <td>11/17/2008 22:24</td>\n",
              "      <td>3/1/2009 10:14</td>\n",
              "      <td>43.073060</td>\n",
              "      <td>-89.401110</td>\n",
              "    </tr>\n",
              "  </tbody>\n",
              "</table>\n",
              "<p>998 rows × 12 columns</p>\n",
              "</div>"
            ],
            "text/plain": [
              "    Transaction_date          Product  ...   Latitude   Longitude\n",
              "0      1/2/2009 6:17    Silver Laptop  ...  51.500000   -1.116667\n",
              "1      1/2/2009 4:53    Silver Laptop  ...  39.195000  -94.681940\n",
              "2     1/2/2009 13:08    Silver Laptop  ...  46.188060 -123.830000\n",
              "3     1/3/2009 14:44    Silver Laptop  ... -36.133333  144.750000\n",
              "4     1/4/2009 12:56      Gold Laptop  ...  33.520560  -86.802500\n",
              "..               ...              ...  ...        ...         ...\n",
              "993  1/22/2009 14:25    Silver Laptop  ...  54.583333   -5.933333\n",
              "994   1/28/2009 5:36      Gold Laptop  ... -20.360278   57.366111\n",
              "995    1/1/2009 4:24  Platinum Laptop  ...  42.946940  -76.429440\n",
              "996   1/8/2009 11:55    Silver Laptop  ...  52.083333    0.433333\n",
              "997  1/12/2009 21:30    Silver Laptop  ...  43.073060  -89.401110\n",
              "\n",
              "[998 rows x 12 columns]"
            ]
          },
          "metadata": {
            "tags": []
          },
          "execution_count": 44
        }
      ]
    },
    {
      "cell_type": "code",
      "metadata": {
        "id": "rp4IwKlGImY0",
        "colab_type": "code",
        "outputId": "cad0b7d2-1f7a-4815-dd09-fe0b911c372f",
        "colab": {
          "base_uri": "https://localhost:8080/",
          "height": 238
        }
      },
      "source": [
        "df.dtypes"
      ],
      "execution_count": 0,
      "outputs": [
        {
          "output_type": "execute_result",
          "data": {
            "text/plain": [
              "Transaction_date     object\n",
              "Product              object\n",
              "Price                 int64\n",
              "Payment_Type         object\n",
              "Name                 object\n",
              "City                 object\n",
              "State                object\n",
              "Country              object\n",
              "Account_Created      object\n",
              "Last_Login           object\n",
              "Latitude            float64\n",
              "Longitude           float64\n",
              "dtype: object"
            ]
          },
          "metadata": {
            "tags": []
          },
          "execution_count": 45
        }
      ]
    },
    {
      "cell_type": "code",
      "metadata": {
        "id": "LdezAj7pItQY",
        "colab_type": "code",
        "outputId": "0823eff5-7c50-4cf5-b7cf-28ed6f059422",
        "colab": {
          "base_uri": "https://localhost:8080/",
          "height": 297
        }
      },
      "source": [
        "df.describe()\n",
        "\n",
        "#descriptive statistics of numeric column"
      ],
      "execution_count": 0,
      "outputs": [
        {
          "output_type": "execute_result",
          "data": {
            "text/html": [
              "<div>\n",
              "<style scoped>\n",
              "    .dataframe tbody tr th:only-of-type {\n",
              "        vertical-align: middle;\n",
              "    }\n",
              "\n",
              "    .dataframe tbody tr th {\n",
              "        vertical-align: top;\n",
              "    }\n",
              "\n",
              "    .dataframe thead th {\n",
              "        text-align: right;\n",
              "    }\n",
              "</style>\n",
              "<table border=\"1\" class=\"dataframe\">\n",
              "  <thead>\n",
              "    <tr style=\"text-align: right;\">\n",
              "      <th></th>\n",
              "      <th>Price</th>\n",
              "      <th>Latitude</th>\n",
              "      <th>Longitude</th>\n",
              "    </tr>\n",
              "  </thead>\n",
              "  <tbody>\n",
              "    <tr>\n",
              "      <th>count</th>\n",
              "      <td>998.000000</td>\n",
              "      <td>998.000000</td>\n",
              "      <td>998.000000</td>\n",
              "    </tr>\n",
              "    <tr>\n",
              "      <th>mean</th>\n",
              "      <td>1633.767535</td>\n",
              "      <td>39.015705</td>\n",
              "      <td>-41.337820</td>\n",
              "    </tr>\n",
              "    <tr>\n",
              "      <th>std</th>\n",
              "      <td>1156.034724</td>\n",
              "      <td>19.508572</td>\n",
              "      <td>67.389479</td>\n",
              "    </tr>\n",
              "    <tr>\n",
              "      <th>min</th>\n",
              "      <td>250.000000</td>\n",
              "      <td>-41.465000</td>\n",
              "      <td>-159.485280</td>\n",
              "    </tr>\n",
              "    <tr>\n",
              "      <th>25%</th>\n",
              "      <td>1200.000000</td>\n",
              "      <td>35.816944</td>\n",
              "      <td>-87.991670</td>\n",
              "    </tr>\n",
              "    <tr>\n",
              "      <th>50%</th>\n",
              "      <td>1200.000000</td>\n",
              "      <td>42.320695</td>\n",
              "      <td>-73.730695</td>\n",
              "    </tr>\n",
              "    <tr>\n",
              "      <th>75%</th>\n",
              "      <td>1200.000000</td>\n",
              "      <td>51.050000</td>\n",
              "      <td>4.916667</td>\n",
              "    </tr>\n",
              "    <tr>\n",
              "      <th>max</th>\n",
              "      <td>13000.000000</td>\n",
              "      <td>64.837780</td>\n",
              "      <td>174.766667</td>\n",
              "    </tr>\n",
              "  </tbody>\n",
              "</table>\n",
              "</div>"
            ],
            "text/plain": [
              "              Price    Latitude   Longitude\n",
              "count    998.000000  998.000000  998.000000\n",
              "mean    1633.767535   39.015705  -41.337820\n",
              "std     1156.034724   19.508572   67.389479\n",
              "min      250.000000  -41.465000 -159.485280\n",
              "25%     1200.000000   35.816944  -87.991670\n",
              "50%     1200.000000   42.320695  -73.730695\n",
              "75%     1200.000000   51.050000    4.916667\n",
              "max    13000.000000   64.837780  174.766667"
            ]
          },
          "metadata": {
            "tags": []
          },
          "execution_count": 46
        }
      ]
    },
    {
      "cell_type": "code",
      "metadata": {
        "id": "HUvW_7g7LdNr",
        "colab_type": "code",
        "outputId": "0f43a6ee-34bf-4f0a-ba3b-92fabd6a48ed",
        "colab": {
          "base_uri": "https://localhost:8080/",
          "height": 419
        }
      },
      "source": [
        "#A\n",
        "df[[\"Price\", \"Product\", \"Name\"]]"
      ],
      "execution_count": 0,
      "outputs": [
        {
          "output_type": "execute_result",
          "data": {
            "text/html": [
              "<div>\n",
              "<style scoped>\n",
              "    .dataframe tbody tr th:only-of-type {\n",
              "        vertical-align: middle;\n",
              "    }\n",
              "\n",
              "    .dataframe tbody tr th {\n",
              "        vertical-align: top;\n",
              "    }\n",
              "\n",
              "    .dataframe thead th {\n",
              "        text-align: right;\n",
              "    }\n",
              "</style>\n",
              "<table border=\"1\" class=\"dataframe\">\n",
              "  <thead>\n",
              "    <tr style=\"text-align: right;\">\n",
              "      <th></th>\n",
              "      <th>Price</th>\n",
              "      <th>Product</th>\n",
              "      <th>Name</th>\n",
              "    </tr>\n",
              "  </thead>\n",
              "  <tbody>\n",
              "    <tr>\n",
              "      <th>0</th>\n",
              "      <td>1200</td>\n",
              "      <td>Silver Laptop</td>\n",
              "      <td>carolina</td>\n",
              "    </tr>\n",
              "    <tr>\n",
              "      <th>1</th>\n",
              "      <td>1200</td>\n",
              "      <td>Silver Laptop</td>\n",
              "      <td>Betina</td>\n",
              "    </tr>\n",
              "    <tr>\n",
              "      <th>2</th>\n",
              "      <td>1200</td>\n",
              "      <td>Silver Laptop</td>\n",
              "      <td>Federica e Andrea</td>\n",
              "    </tr>\n",
              "    <tr>\n",
              "      <th>3</th>\n",
              "      <td>1200</td>\n",
              "      <td>Silver Laptop</td>\n",
              "      <td>Gouya</td>\n",
              "    </tr>\n",
              "    <tr>\n",
              "      <th>4</th>\n",
              "      <td>3600</td>\n",
              "      <td>Gold Laptop</td>\n",
              "      <td>Gerd W</td>\n",
              "    </tr>\n",
              "    <tr>\n",
              "      <th>...</th>\n",
              "      <td>...</td>\n",
              "      <td>...</td>\n",
              "      <td>...</td>\n",
              "    </tr>\n",
              "    <tr>\n",
              "      <th>993</th>\n",
              "      <td>1200</td>\n",
              "      <td>Silver Laptop</td>\n",
              "      <td>Hans-Joerg</td>\n",
              "    </tr>\n",
              "    <tr>\n",
              "      <th>994</th>\n",
              "      <td>3600</td>\n",
              "      <td>Gold Laptop</td>\n",
              "      <td>Christiane</td>\n",
              "    </tr>\n",
              "    <tr>\n",
              "      <th>995</th>\n",
              "      <td>7500</td>\n",
              "      <td>Platinum Laptop</td>\n",
              "      <td>Pamela</td>\n",
              "    </tr>\n",
              "    <tr>\n",
              "      <th>996</th>\n",
              "      <td>1200</td>\n",
              "      <td>Silver Laptop</td>\n",
              "      <td>julie</td>\n",
              "    </tr>\n",
              "    <tr>\n",
              "      <th>997</th>\n",
              "      <td>1200</td>\n",
              "      <td>Silver Laptop</td>\n",
              "      <td>Julia</td>\n",
              "    </tr>\n",
              "  </tbody>\n",
              "</table>\n",
              "<p>998 rows × 3 columns</p>\n",
              "</div>"
            ],
            "text/plain": [
              "     Price          Product               Name\n",
              "0     1200    Silver Laptop           carolina\n",
              "1     1200    Silver Laptop             Betina\n",
              "2     1200    Silver Laptop  Federica e Andrea\n",
              "3     1200    Silver Laptop              Gouya\n",
              "4     3600      Gold Laptop            Gerd W \n",
              "..     ...              ...                ...\n",
              "993   1200    Silver Laptop         Hans-Joerg\n",
              "994   3600      Gold Laptop         Christiane\n",
              "995   7500  Platinum Laptop             Pamela\n",
              "996   1200    Silver Laptop              julie\n",
              "997   1200    Silver Laptop             Julia \n",
              "\n",
              "[998 rows x 3 columns]"
            ]
          },
          "metadata": {
            "tags": []
          },
          "execution_count": 48
        }
      ]
    },
    {
      "cell_type": "code",
      "metadata": {
        "id": "Z0sRVN0BLt7O",
        "colab_type": "code",
        "outputId": "871bb61b-dcf4-4639-ac1f-8395c0547f44",
        "colab": {
          "base_uri": "https://localhost:8080/",
          "height": 102
        }
      },
      "source": [
        "#A\n",
        "df[\"Product\"].value_counts()"
      ],
      "execution_count": 0,
      "outputs": [
        {
          "output_type": "execute_result",
          "data": {
            "text/plain": [
              "Silver Laptop       847\n",
              "Gold Laptop         136\n",
              "Platinum Laptop      14\n",
              "Platinum Laptop       1\n",
              "Name: Product, dtype: int64"
            ]
          },
          "metadata": {
            "tags": []
          },
          "execution_count": 49
        }
      ]
    },
    {
      "cell_type": "code",
      "metadata": {
        "id": "Gx0FzIRIMBEN",
        "colab_type": "code",
        "outputId": "12951ce5-1e33-4e0a-887b-1f2a207f571c",
        "colab": {
          "base_uri": "https://localhost:8080/",
          "height": 221
        }
      },
      "source": [
        "#A\n",
        "df[\"City\"].value_counts()"
      ],
      "execution_count": 0,
      "outputs": [
        {
          "output_type": "execute_result",
          "data": {
            "text/plain": [
              "London                          19\n",
              "Calgary                         11\n",
              "New York                         9\n",
              "Den Haag                         9\n",
              "Vancouver                        8\n",
              "                                ..\n",
              "Walnut Creek                     1\n",
              "Kobenhavn                        1\n",
              "Irving                           1\n",
              "Pittsboro                        1\n",
              "Besancon                         1\n",
              "Name: City, Length: 759, dtype: int64"
            ]
          },
          "metadata": {
            "tags": []
          },
          "execution_count": 51
        }
      ]
    },
    {
      "cell_type": "code",
      "metadata": {
        "id": "XrkUX7kVR9TM",
        "colab_type": "code",
        "colab": {}
      },
      "source": [
        "#"
      ],
      "execution_count": 0,
      "outputs": []
    },
    {
      "cell_type": "code",
      "metadata": {
        "id": "A8agaU-JR7Ha",
        "colab_type": "code",
        "outputId": "5c3c7533-9f5c-486d-f959-9ba466139228",
        "colab": {
          "base_uri": "https://localhost:8080/",
          "height": 340
        }
      },
      "source": [
        "df.info()\n"
      ],
      "execution_count": 0,
      "outputs": [
        {
          "output_type": "stream",
          "text": [
            "<class 'pandas.core.frame.DataFrame'>\n",
            "RangeIndex: 998 entries, 0 to 997\n",
            "Data columns (total 12 columns):\n",
            " #   Column            Non-Null Count  Dtype  \n",
            "---  ------            --------------  -----  \n",
            " 0   Transaction_date  998 non-null    object \n",
            " 1   Product           998 non-null    object \n",
            " 2   Price             998 non-null    int64  \n",
            " 3   Payment_Type      998 non-null    object \n",
            " 4   Name              998 non-null    object \n",
            " 5   City              998 non-null    object \n",
            " 6   State             997 non-null    object \n",
            " 7   Country           998 non-null    object \n",
            " 8   Account_Created   998 non-null    object \n",
            " 9   Last_Login        998 non-null    object \n",
            " 10  Latitude          998 non-null    float64\n",
            " 11  Longitude         998 non-null    float64\n",
            "dtypes: float64(2), int64(1), object(9)\n",
            "memory usage: 93.7+ KB\n"
          ],
          "name": "stdout"
        }
      ]
    },
    {
      "cell_type": "code",
      "metadata": {
        "id": "e1AGooHST-SJ",
        "colab_type": "code",
        "outputId": "a088e3ca-80c5-4efa-de88-3dc90fd0e27c",
        "colab": {
          "base_uri": "https://localhost:8080/",
          "height": 439
        }
      },
      "source": [
        "df.isnull()"
      ],
      "execution_count": 0,
      "outputs": [
        {
          "output_type": "execute_result",
          "data": {
            "text/html": [
              "<div>\n",
              "<style scoped>\n",
              "    .dataframe tbody tr th:only-of-type {\n",
              "        vertical-align: middle;\n",
              "    }\n",
              "\n",
              "    .dataframe tbody tr th {\n",
              "        vertical-align: top;\n",
              "    }\n",
              "\n",
              "    .dataframe thead th {\n",
              "        text-align: right;\n",
              "    }\n",
              "</style>\n",
              "<table border=\"1\" class=\"dataframe\">\n",
              "  <thead>\n",
              "    <tr style=\"text-align: right;\">\n",
              "      <th></th>\n",
              "      <th>Transaction_date</th>\n",
              "      <th>Product</th>\n",
              "      <th>Price</th>\n",
              "      <th>Payment_Type</th>\n",
              "      <th>Name</th>\n",
              "      <th>City</th>\n",
              "      <th>State</th>\n",
              "      <th>Country</th>\n",
              "      <th>Account_Created</th>\n",
              "      <th>Last_Login</th>\n",
              "      <th>Latitude</th>\n",
              "      <th>Longitude</th>\n",
              "    </tr>\n",
              "  </thead>\n",
              "  <tbody>\n",
              "    <tr>\n",
              "      <th>0</th>\n",
              "      <td>False</td>\n",
              "      <td>False</td>\n",
              "      <td>False</td>\n",
              "      <td>False</td>\n",
              "      <td>False</td>\n",
              "      <td>False</td>\n",
              "      <td>False</td>\n",
              "      <td>False</td>\n",
              "      <td>False</td>\n",
              "      <td>False</td>\n",
              "      <td>False</td>\n",
              "      <td>False</td>\n",
              "    </tr>\n",
              "    <tr>\n",
              "      <th>1</th>\n",
              "      <td>False</td>\n",
              "      <td>False</td>\n",
              "      <td>False</td>\n",
              "      <td>False</td>\n",
              "      <td>False</td>\n",
              "      <td>False</td>\n",
              "      <td>False</td>\n",
              "      <td>False</td>\n",
              "      <td>False</td>\n",
              "      <td>False</td>\n",
              "      <td>False</td>\n",
              "      <td>False</td>\n",
              "    </tr>\n",
              "    <tr>\n",
              "      <th>2</th>\n",
              "      <td>False</td>\n",
              "      <td>False</td>\n",
              "      <td>False</td>\n",
              "      <td>False</td>\n",
              "      <td>False</td>\n",
              "      <td>False</td>\n",
              "      <td>False</td>\n",
              "      <td>False</td>\n",
              "      <td>False</td>\n",
              "      <td>False</td>\n",
              "      <td>False</td>\n",
              "      <td>False</td>\n",
              "    </tr>\n",
              "    <tr>\n",
              "      <th>3</th>\n",
              "      <td>False</td>\n",
              "      <td>False</td>\n",
              "      <td>False</td>\n",
              "      <td>False</td>\n",
              "      <td>False</td>\n",
              "      <td>False</td>\n",
              "      <td>False</td>\n",
              "      <td>False</td>\n",
              "      <td>False</td>\n",
              "      <td>False</td>\n",
              "      <td>False</td>\n",
              "      <td>False</td>\n",
              "    </tr>\n",
              "    <tr>\n",
              "      <th>4</th>\n",
              "      <td>False</td>\n",
              "      <td>False</td>\n",
              "      <td>False</td>\n",
              "      <td>False</td>\n",
              "      <td>False</td>\n",
              "      <td>False</td>\n",
              "      <td>False</td>\n",
              "      <td>False</td>\n",
              "      <td>False</td>\n",
              "      <td>False</td>\n",
              "      <td>False</td>\n",
              "      <td>False</td>\n",
              "    </tr>\n",
              "    <tr>\n",
              "      <th>...</th>\n",
              "      <td>...</td>\n",
              "      <td>...</td>\n",
              "      <td>...</td>\n",
              "      <td>...</td>\n",
              "      <td>...</td>\n",
              "      <td>...</td>\n",
              "      <td>...</td>\n",
              "      <td>...</td>\n",
              "      <td>...</td>\n",
              "      <td>...</td>\n",
              "      <td>...</td>\n",
              "      <td>...</td>\n",
              "    </tr>\n",
              "    <tr>\n",
              "      <th>993</th>\n",
              "      <td>False</td>\n",
              "      <td>False</td>\n",
              "      <td>False</td>\n",
              "      <td>False</td>\n",
              "      <td>False</td>\n",
              "      <td>False</td>\n",
              "      <td>False</td>\n",
              "      <td>False</td>\n",
              "      <td>False</td>\n",
              "      <td>False</td>\n",
              "      <td>False</td>\n",
              "      <td>False</td>\n",
              "    </tr>\n",
              "    <tr>\n",
              "      <th>994</th>\n",
              "      <td>False</td>\n",
              "      <td>False</td>\n",
              "      <td>False</td>\n",
              "      <td>False</td>\n",
              "      <td>False</td>\n",
              "      <td>False</td>\n",
              "      <td>False</td>\n",
              "      <td>False</td>\n",
              "      <td>False</td>\n",
              "      <td>False</td>\n",
              "      <td>False</td>\n",
              "      <td>False</td>\n",
              "    </tr>\n",
              "    <tr>\n",
              "      <th>995</th>\n",
              "      <td>False</td>\n",
              "      <td>False</td>\n",
              "      <td>False</td>\n",
              "      <td>False</td>\n",
              "      <td>False</td>\n",
              "      <td>False</td>\n",
              "      <td>False</td>\n",
              "      <td>False</td>\n",
              "      <td>False</td>\n",
              "      <td>False</td>\n",
              "      <td>False</td>\n",
              "      <td>False</td>\n",
              "    </tr>\n",
              "    <tr>\n",
              "      <th>996</th>\n",
              "      <td>False</td>\n",
              "      <td>False</td>\n",
              "      <td>False</td>\n",
              "      <td>False</td>\n",
              "      <td>False</td>\n",
              "      <td>False</td>\n",
              "      <td>False</td>\n",
              "      <td>False</td>\n",
              "      <td>False</td>\n",
              "      <td>False</td>\n",
              "      <td>False</td>\n",
              "      <td>False</td>\n",
              "    </tr>\n",
              "    <tr>\n",
              "      <th>997</th>\n",
              "      <td>False</td>\n",
              "      <td>False</td>\n",
              "      <td>False</td>\n",
              "      <td>False</td>\n",
              "      <td>False</td>\n",
              "      <td>False</td>\n",
              "      <td>False</td>\n",
              "      <td>False</td>\n",
              "      <td>False</td>\n",
              "      <td>False</td>\n",
              "      <td>False</td>\n",
              "      <td>False</td>\n",
              "    </tr>\n",
              "  </tbody>\n",
              "</table>\n",
              "<p>998 rows × 12 columns</p>\n",
              "</div>"
            ],
            "text/plain": [
              "     Transaction_date  Product  Price  ...  Last_Login  Latitude  Longitude\n",
              "0               False    False  False  ...       False     False      False\n",
              "1               False    False  False  ...       False     False      False\n",
              "2               False    False  False  ...       False     False      False\n",
              "3               False    False  False  ...       False     False      False\n",
              "4               False    False  False  ...       False     False      False\n",
              "..                ...      ...    ...  ...         ...       ...        ...\n",
              "993             False    False  False  ...       False     False      False\n",
              "994             False    False  False  ...       False     False      False\n",
              "995             False    False  False  ...       False     False      False\n",
              "996             False    False  False  ...       False     False      False\n",
              "997             False    False  False  ...       False     False      False\n",
              "\n",
              "[998 rows x 12 columns]"
            ]
          },
          "metadata": {
            "tags": []
          },
          "execution_count": 53
        }
      ]
    },
    {
      "cell_type": "code",
      "metadata": {
        "id": "SvAYsxTVU8f_",
        "colab_type": "code",
        "outputId": "5d27a8d1-628f-408a-eeb6-40e212dec13f",
        "colab": {
          "base_uri": "https://localhost:8080/",
          "height": 221
        }
      },
      "source": [
        "df[\"State\"].isnull()"
      ],
      "execution_count": 0,
      "outputs": [
        {
          "output_type": "execute_result",
          "data": {
            "text/plain": [
              "0      False\n",
              "1      False\n",
              "2      False\n",
              "3      False\n",
              "4      False\n",
              "       ...  \n",
              "993    False\n",
              "994    False\n",
              "995    False\n",
              "996    False\n",
              "997    False\n",
              "Name: State, Length: 998, dtype: bool"
            ]
          },
          "metadata": {
            "tags": []
          },
          "execution_count": 54
        }
      ]
    },
    {
      "cell_type": "code",
      "metadata": {
        "id": "XuOWftQGVv8E",
        "colab_type": "code",
        "outputId": "a2de0a62-2568-4821-cd5f-7d16070a50d9",
        "colab": {
          "base_uri": "https://localhost:8080/",
          "height": 117
        }
      },
      "source": [
        "df[df[\"State\"].isnull()]"
      ],
      "execution_count": 0,
      "outputs": [
        {
          "output_type": "execute_result",
          "data": {
            "text/html": [
              "<div>\n",
              "<style scoped>\n",
              "    .dataframe tbody tr th:only-of-type {\n",
              "        vertical-align: middle;\n",
              "    }\n",
              "\n",
              "    .dataframe tbody tr th {\n",
              "        vertical-align: top;\n",
              "    }\n",
              "\n",
              "    .dataframe thead th {\n",
              "        text-align: right;\n",
              "    }\n",
              "</style>\n",
              "<table border=\"1\" class=\"dataframe\">\n",
              "  <thead>\n",
              "    <tr style=\"text-align: right;\">\n",
              "      <th></th>\n",
              "      <th>Transaction_date</th>\n",
              "      <th>Product</th>\n",
              "      <th>Price</th>\n",
              "      <th>Payment_Type</th>\n",
              "      <th>Name</th>\n",
              "      <th>City</th>\n",
              "      <th>State</th>\n",
              "      <th>Country</th>\n",
              "      <th>Account_Created</th>\n",
              "      <th>Last_Login</th>\n",
              "      <th>Latitude</th>\n",
              "      <th>Longitude</th>\n",
              "    </tr>\n",
              "  </thead>\n",
              "  <tbody>\n",
              "    <tr>\n",
              "      <th>146</th>\n",
              "      <td>1/17/2009 1:23</td>\n",
              "      <td>Silver Laptop</td>\n",
              "      <td>1200</td>\n",
              "      <td>Amex</td>\n",
              "      <td>Campbell</td>\n",
              "      <td>Mushrif</td>\n",
              "      <td>NaN</td>\n",
              "      <td>Kuwait</td>\n",
              "      <td>1/16/2009 14:26</td>\n",
              "      <td>1/18/2009 9:08</td>\n",
              "      <td>29.289167</td>\n",
              "      <td>48.05</td>\n",
              "    </tr>\n",
              "  </tbody>\n",
              "</table>\n",
              "</div>"
            ],
            "text/plain": [
              "    Transaction_date        Product  ...   Latitude Longitude\n",
              "146   1/17/2009 1:23  Silver Laptop  ...  29.289167     48.05\n",
              "\n",
              "[1 rows x 12 columns]"
            ]
          },
          "metadata": {
            "tags": []
          },
          "execution_count": 55
        }
      ]
    },
    {
      "cell_type": "code",
      "metadata": {
        "id": "dqYIz4XrWRjC",
        "colab_type": "code",
        "colab": {}
      },
      "source": [
        "df[\"State\"].fillna(\"Rumaithiya\",inplace=True)"
      ],
      "execution_count": 0,
      "outputs": []
    },
    {
      "cell_type": "code",
      "metadata": {
        "id": "UiLA6zC6XAxp",
        "colab_type": "code",
        "colab": {}
      },
      "source": [
        ""
      ],
      "execution_count": 0,
      "outputs": []
    }
  ]
}